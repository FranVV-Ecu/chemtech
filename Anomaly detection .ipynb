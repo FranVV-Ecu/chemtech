{
 "cells": [
  {
   "cell_type": "code",
   "execution_count": 1,
   "metadata": {},
   "outputs": [],
   "source": [
    "import pandas as pd"
   ]
  },
  {
   "cell_type": "code",
   "execution_count": 2,
   "metadata": {},
   "outputs": [],
   "source": [
    "path = r\"C:\\Users\\Asus\\Desktop\\CHemtech\\data_pi.csv\"\n",
    "\n",
    "df = pd.read_csv(path)"
   ]
  },
  {
   "cell_type": "code",
   "execution_count": 3,
   "metadata": {},
   "outputs": [
    {
     "name": "stdout",
     "output_type": "stream",
     "text": [
      "<class 'pandas.core.frame.DataFrame'>\n",
      "RangeIndex: 60510 entries, 0 to 60509\n",
      "Data columns (total 2 columns):\n",
      "timestamp    60510 non-null object\n",
      "PI_71        60510 non-null float64\n",
      "dtypes: float64(1), object(1)\n",
      "memory usage: 945.6+ KB\n"
     ]
    }
   ],
   "source": [
    "df.info()"
   ]
  },
  {
   "cell_type": "code",
   "execution_count": 4,
   "metadata": {},
   "outputs": [
    {
     "data": {
      "text/html": [
       "<div>\n",
       "<style scoped>\n",
       "    .dataframe tbody tr th:only-of-type {\n",
       "        vertical-align: middle;\n",
       "    }\n",
       "\n",
       "    .dataframe tbody tr th {\n",
       "        vertical-align: top;\n",
       "    }\n",
       "\n",
       "    .dataframe thead th {\n",
       "        text-align: right;\n",
       "    }\n",
       "</style>\n",
       "<table border=\"1\" class=\"dataframe\">\n",
       "  <thead>\n",
       "    <tr style=\"text-align: right;\">\n",
       "      <th></th>\n",
       "      <th>timestamp</th>\n",
       "      <th>PI_71</th>\n",
       "    </tr>\n",
       "  </thead>\n",
       "  <tbody>\n",
       "    <tr>\n",
       "      <td>0</td>\n",
       "      <td>2020-04-27 15:30:00</td>\n",
       "      <td>272.0000</td>\n",
       "    </tr>\n",
       "    <tr>\n",
       "      <td>1</td>\n",
       "      <td>2020-04-27 16:30:00</td>\n",
       "      <td>272.0000</td>\n",
       "    </tr>\n",
       "    <tr>\n",
       "      <td>2</td>\n",
       "      <td>2020-04-27 19:30:00</td>\n",
       "      <td>272.0000</td>\n",
       "    </tr>\n",
       "    <tr>\n",
       "      <td>3</td>\n",
       "      <td>2020-04-27 20:30:00</td>\n",
       "      <td>272.0000</td>\n",
       "    </tr>\n",
       "    <tr>\n",
       "      <td>4</td>\n",
       "      <td>2020-04-27 21:30:00</td>\n",
       "      <td>272.0000</td>\n",
       "    </tr>\n",
       "    <tr>\n",
       "      <td>...</td>\n",
       "      <td>...</td>\n",
       "      <td>...</td>\n",
       "    </tr>\n",
       "    <tr>\n",
       "      <td>60505</td>\n",
       "      <td>2020-08-05 19:13:45</td>\n",
       "      <td>327.6910</td>\n",
       "    </tr>\n",
       "    <tr>\n",
       "      <td>60506</td>\n",
       "      <td>2020-08-05 19:14:51</td>\n",
       "      <td>327.9803</td>\n",
       "    </tr>\n",
       "    <tr>\n",
       "      <td>60507</td>\n",
       "      <td>2020-08-05 19:15:28</td>\n",
       "      <td>327.9803</td>\n",
       "    </tr>\n",
       "    <tr>\n",
       "      <td>60508</td>\n",
       "      <td>2020-08-05 19:16:10</td>\n",
       "      <td>328.1250</td>\n",
       "    </tr>\n",
       "    <tr>\n",
       "      <td>60509</td>\n",
       "      <td>2020-08-05 19:17:14</td>\n",
       "      <td>327.9803</td>\n",
       "    </tr>\n",
       "  </tbody>\n",
       "</table>\n",
       "<p>60510 rows × 2 columns</p>\n",
       "</div>"
      ],
      "text/plain": [
       "                 timestamp     PI_71\n",
       "0      2020-04-27 15:30:00  272.0000\n",
       "1      2020-04-27 16:30:00  272.0000\n",
       "2      2020-04-27 19:30:00  272.0000\n",
       "3      2020-04-27 20:30:00  272.0000\n",
       "4      2020-04-27 21:30:00  272.0000\n",
       "...                    ...       ...\n",
       "60505  2020-08-05 19:13:45  327.6910\n",
       "60506  2020-08-05 19:14:51  327.9803\n",
       "60507  2020-08-05 19:15:28  327.9803\n",
       "60508  2020-08-05 19:16:10  328.1250\n",
       "60509  2020-08-05 19:17:14  327.9803\n",
       "\n",
       "[60510 rows x 2 columns]"
      ]
     },
     "execution_count": 4,
     "metadata": {},
     "output_type": "execute_result"
    }
   ],
   "source": [
    "df"
   ]
  },
  {
   "cell_type": "code",
   "execution_count": 5,
   "metadata": {},
   "outputs": [
    {
     "data": {
      "text/plain": [
       "timestamp    0\n",
       "PI_71        0\n",
       "dtype: int64"
      ]
     },
     "execution_count": 5,
     "metadata": {},
     "output_type": "execute_result"
    }
   ],
   "source": [
    "df.isna().sum()"
   ]
  },
  {
   "cell_type": "code",
   "execution_count": 6,
   "metadata": {},
   "outputs": [
    {
     "data": {
      "text/plain": [
       "<matplotlib.axes._subplots.AxesSubplot at 0x228348fff88>"
      ]
     },
     "execution_count": 6,
     "metadata": {},
     "output_type": "execute_result"
    }
   ],
   "source": [
    "df.iloc[:,1].plot(kind ='hist', figsize = (15,10), grid = True)"
   ]
  },
  {
   "cell_type": "code",
   "execution_count": 7,
   "metadata": {},
   "outputs": [
    {
     "data": {
      "text/plain": [
       "Index(['timestamp', 'PI_71'], dtype='object')"
      ]
     },
     "execution_count": 7,
     "metadata": {},
     "output_type": "execute_result"
    }
   ],
   "source": [
    "df.columns"
   ]
  },
  {
   "cell_type": "code",
   "execution_count": 8,
   "metadata": {},
   "outputs": [],
   "source": [
    "df['timestamp'] =  pd.to_datetime(df['timestamp'])"
   ]
  },
  {
   "cell_type": "code",
   "execution_count": 9,
   "metadata": {},
   "outputs": [
    {
     "name": "stdout",
     "output_type": "stream",
     "text": [
      "<class 'pandas.core.frame.DataFrame'>\n",
      "RangeIndex: 60510 entries, 0 to 60509\n",
      "Data columns (total 2 columns):\n",
      "timestamp    60510 non-null datetime64[ns]\n",
      "PI_71        60510 non-null float64\n",
      "dtypes: datetime64[ns](1), float64(1)\n",
      "memory usage: 945.6 KB\n"
     ]
    }
   ],
   "source": [
    "df.info()"
   ]
  },
  {
   "cell_type": "code",
   "execution_count": 10,
   "metadata": {},
   "outputs": [
    {
     "data": {
      "text/html": [
       "<div>\n",
       "<style scoped>\n",
       "    .dataframe tbody tr th:only-of-type {\n",
       "        vertical-align: middle;\n",
       "    }\n",
       "\n",
       "    .dataframe tbody tr th {\n",
       "        vertical-align: top;\n",
       "    }\n",
       "\n",
       "    .dataframe thead th {\n",
       "        text-align: right;\n",
       "    }\n",
       "</style>\n",
       "<table border=\"1\" class=\"dataframe\">\n",
       "  <thead>\n",
       "    <tr style=\"text-align: right;\">\n",
       "      <th></th>\n",
       "      <th>PI_71</th>\n",
       "    </tr>\n",
       "  </thead>\n",
       "  <tbody>\n",
       "    <tr>\n",
       "      <td>count</td>\n",
       "      <td>60510.000000</td>\n",
       "    </tr>\n",
       "    <tr>\n",
       "      <td>mean</td>\n",
       "      <td>279.636115</td>\n",
       "    </tr>\n",
       "    <tr>\n",
       "      <td>std</td>\n",
       "      <td>76.820794</td>\n",
       "    </tr>\n",
       "    <tr>\n",
       "      <td>min</td>\n",
       "      <td>70.023150</td>\n",
       "    </tr>\n",
       "    <tr>\n",
       "      <td>25%</td>\n",
       "      <td>244.502300</td>\n",
       "    </tr>\n",
       "    <tr>\n",
       "      <td>50%</td>\n",
       "      <td>278.790500</td>\n",
       "    </tr>\n",
       "    <tr>\n",
       "      <td>75%</td>\n",
       "      <td>321.759200</td>\n",
       "    </tr>\n",
       "    <tr>\n",
       "      <td>max</td>\n",
       "      <td>756.221100</td>\n",
       "    </tr>\n",
       "  </tbody>\n",
       "</table>\n",
       "</div>"
      ],
      "text/plain": [
       "              PI_71\n",
       "count  60510.000000\n",
       "mean     279.636115\n",
       "std       76.820794\n",
       "min       70.023150\n",
       "25%      244.502300\n",
       "50%      278.790500\n",
       "75%      321.759200\n",
       "max      756.221100"
      ]
     },
     "execution_count": 10,
     "metadata": {},
     "output_type": "execute_result"
    }
   ],
   "source": [
    "df.describe()"
   ]
  },
  {
   "cell_type": "code",
   "execution_count": 11,
   "metadata": {},
   "outputs": [],
   "source": [
    "df.index = df.timestamp"
   ]
  },
  {
   "cell_type": "code",
   "execution_count": 12,
   "metadata": {},
   "outputs": [
    {
     "data": {
      "text/html": [
       "<div>\n",
       "<style scoped>\n",
       "    .dataframe tbody tr th:only-of-type {\n",
       "        vertical-align: middle;\n",
       "    }\n",
       "\n",
       "    .dataframe tbody tr th {\n",
       "        vertical-align: top;\n",
       "    }\n",
       "\n",
       "    .dataframe thead th {\n",
       "        text-align: right;\n",
       "    }\n",
       "</style>\n",
       "<table border=\"1\" class=\"dataframe\">\n",
       "  <thead>\n",
       "    <tr style=\"text-align: right;\">\n",
       "      <th></th>\n",
       "      <th>timestamp</th>\n",
       "      <th>PI_71</th>\n",
       "    </tr>\n",
       "    <tr>\n",
       "      <th>timestamp</th>\n",
       "      <th></th>\n",
       "      <th></th>\n",
       "    </tr>\n",
       "  </thead>\n",
       "  <tbody>\n",
       "    <tr>\n",
       "      <td>2020-04-27 15:30:00</td>\n",
       "      <td>2020-04-27 15:30:00</td>\n",
       "      <td>272.0000</td>\n",
       "    </tr>\n",
       "    <tr>\n",
       "      <td>2020-04-27 16:30:00</td>\n",
       "      <td>2020-04-27 16:30:00</td>\n",
       "      <td>272.0000</td>\n",
       "    </tr>\n",
       "    <tr>\n",
       "      <td>2020-04-27 19:30:00</td>\n",
       "      <td>2020-04-27 19:30:00</td>\n",
       "      <td>272.0000</td>\n",
       "    </tr>\n",
       "    <tr>\n",
       "      <td>2020-04-27 20:30:00</td>\n",
       "      <td>2020-04-27 20:30:00</td>\n",
       "      <td>272.0000</td>\n",
       "    </tr>\n",
       "    <tr>\n",
       "      <td>2020-04-27 21:30:00</td>\n",
       "      <td>2020-04-27 21:30:00</td>\n",
       "      <td>272.0000</td>\n",
       "    </tr>\n",
       "    <tr>\n",
       "      <td>...</td>\n",
       "      <td>...</td>\n",
       "      <td>...</td>\n",
       "    </tr>\n",
       "    <tr>\n",
       "      <td>2020-08-05 19:13:45</td>\n",
       "      <td>2020-08-05 19:13:45</td>\n",
       "      <td>327.6910</td>\n",
       "    </tr>\n",
       "    <tr>\n",
       "      <td>2020-08-05 19:14:51</td>\n",
       "      <td>2020-08-05 19:14:51</td>\n",
       "      <td>327.9803</td>\n",
       "    </tr>\n",
       "    <tr>\n",
       "      <td>2020-08-05 19:15:28</td>\n",
       "      <td>2020-08-05 19:15:28</td>\n",
       "      <td>327.9803</td>\n",
       "    </tr>\n",
       "    <tr>\n",
       "      <td>2020-08-05 19:16:10</td>\n",
       "      <td>2020-08-05 19:16:10</td>\n",
       "      <td>328.1250</td>\n",
       "    </tr>\n",
       "    <tr>\n",
       "      <td>2020-08-05 19:17:14</td>\n",
       "      <td>2020-08-05 19:17:14</td>\n",
       "      <td>327.9803</td>\n",
       "    </tr>\n",
       "  </tbody>\n",
       "</table>\n",
       "<p>60510 rows × 2 columns</p>\n",
       "</div>"
      ],
      "text/plain": [
       "                              timestamp     PI_71\n",
       "timestamp                                        \n",
       "2020-04-27 15:30:00 2020-04-27 15:30:00  272.0000\n",
       "2020-04-27 16:30:00 2020-04-27 16:30:00  272.0000\n",
       "2020-04-27 19:30:00 2020-04-27 19:30:00  272.0000\n",
       "2020-04-27 20:30:00 2020-04-27 20:30:00  272.0000\n",
       "2020-04-27 21:30:00 2020-04-27 21:30:00  272.0000\n",
       "...                                 ...       ...\n",
       "2020-08-05 19:13:45 2020-08-05 19:13:45  327.6910\n",
       "2020-08-05 19:14:51 2020-08-05 19:14:51  327.9803\n",
       "2020-08-05 19:15:28 2020-08-05 19:15:28  327.9803\n",
       "2020-08-05 19:16:10 2020-08-05 19:16:10  328.1250\n",
       "2020-08-05 19:17:14 2020-08-05 19:17:14  327.9803\n",
       "\n",
       "[60510 rows x 2 columns]"
      ]
     },
     "execution_count": 12,
     "metadata": {},
     "output_type": "execute_result"
    }
   ],
   "source": [
    "df"
   ]
  },
  {
   "cell_type": "code",
   "execution_count": 13,
   "metadata": {},
   "outputs": [
    {
     "data": {
      "image/png": "[encoded data removed]",
      "text/plain": [
       "<Figure size 1440x720 with 1 Axes>"
      ]
     },
     "metadata": {
      "needs_background": "light"
     },
     "output_type": "display_data"
    }
   ],
   "source": [
    "import matplotlib.pyplot as plt\n",
    "\n",
    "# Check out of train and test data sets\n",
    "fig, ax = plt.subplots(figsize = (20,10))\n",
    "df_day = df.resample('1T')['PI_71'].first()\n",
    "\n",
    "ax = df_day.plot(label = 'time series', grid =True)\n",
    "\n",
    "#gr_day_test.plot(color='r',label = 'test')\n",
    "ax.legend()\n",
    "#ax.axvline(train.index.max(),linestyle = '--',color = 'r')\n",
    "plt.grid()\n"
   ]
  },
  {
   "cell_type": "code",
   "execution_count": null,
   "metadata": {},
   "outputs": [],
   "source": []
  }
 ],
 "metadata": {
  "kernelspec": {
   "display_name": "Python 3",
   "language": "python",
   "name": "python3"
  },
  "language_info": {
   "codemirror_mode": {
    "name": "ipython",
    "version": 3
   },
   "file_extension": ".py",
   "mimetype": "text/x-python",
   "name": "python",
   "nbconvert_exporter": "python",
   "pygments_lexer": "ipython3",
   "version": "3.7.4"
  }
 },
 "nbformat": 4,
 "nbformat_minor": 2
}
