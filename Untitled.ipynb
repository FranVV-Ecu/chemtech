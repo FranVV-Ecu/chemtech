{
 "cells": [
  {
   "cell_type": "code",
   "execution_count": 1,
   "metadata": {},
   "outputs": [],
   "source": [
    "import pandas as pd"
   ]
  },
  {
   "cell_type": "code",
   "execution_count": 2,
   "metadata": {},
   "outputs": [],
   "source": [
    "path = r\"C:\\Users\\Asus\\Desktop\\CHemtech\\data_pi.csv\"\n",
    "\n",
    "df = pd.read_csv(path)"
   ]
  },
  {
   "cell_type": "code",
   "execution_count": 3,
   "metadata": {},
   "outputs": [],
   "source": [
    "import numpy as np\n"
   ]
  },
  {
   "cell_type": "code",
   "execution_count": 6,
   "metadata": {},
   "outputs": [],
   "source": [
    "df['timestamp'] =  pd.to_datetime(df['timestamp'])"
   ]
  },
  {
   "cell_type": "code",
   "execution_count": 7,
   "metadata": {},
   "outputs": [],
   "source": [
    "data = df.copy()"
   ]
  },
  {
   "cell_type": "code",
   "execution_count": 8,
   "metadata": {},
   "outputs": [
    {
     "data": {
      "text/html": [
       "<div>\n",
       "<style scoped>\n",
       "    .dataframe tbody tr th:only-of-type {\n",
       "        vertical-align: middle;\n",
       "    }\n",
       "\n",
       "    .dataframe tbody tr th {\n",
       "        vertical-align: top;\n",
       "    }\n",
       "\n",
       "    .dataframe thead th {\n",
       "        text-align: right;\n",
       "    }\n",
       "</style>\n",
       "<table border=\"1\" class=\"dataframe\">\n",
       "  <thead>\n",
       "    <tr style=\"text-align: right;\">\n",
       "      <th></th>\n",
       "      <th>PI_71</th>\n",
       "    </tr>\n",
       "    <tr>\n",
       "      <th>timestamp</th>\n",
       "      <th></th>\n",
       "    </tr>\n",
       "  </thead>\n",
       "  <tbody>\n",
       "    <tr>\n",
       "      <th>2020-04-27 15:30:00</th>\n",
       "      <td>272.0000</td>\n",
       "    </tr>\n",
       "    <tr>\n",
       "      <th>2020-04-27 16:30:00</th>\n",
       "      <td>272.0000</td>\n",
       "    </tr>\n",
       "    <tr>\n",
       "      <th>2020-04-27 19:30:00</th>\n",
       "      <td>272.0000</td>\n",
       "    </tr>\n",
       "    <tr>\n",
       "      <th>2020-04-27 20:30:00</th>\n",
       "      <td>272.0000</td>\n",
       "    </tr>\n",
       "    <tr>\n",
       "      <th>2020-04-27 21:30:00</th>\n",
       "      <td>272.0000</td>\n",
       "    </tr>\n",
       "    <tr>\n",
       "      <th>...</th>\n",
       "      <td>...</td>\n",
       "    </tr>\n",
       "    <tr>\n",
       "      <th>2020-08-05 19:13:45</th>\n",
       "      <td>327.6910</td>\n",
       "    </tr>\n",
       "    <tr>\n",
       "      <th>2020-08-05 19:14:51</th>\n",
       "      <td>327.9803</td>\n",
       "    </tr>\n",
       "    <tr>\n",
       "      <th>2020-08-05 19:15:28</th>\n",
       "      <td>327.9803</td>\n",
       "    </tr>\n",
       "    <tr>\n",
       "      <th>2020-08-05 19:16:10</th>\n",
       "      <td>328.1250</td>\n",
       "    </tr>\n",
       "    <tr>\n",
       "      <th>2020-08-05 19:17:14</th>\n",
       "      <td>327.9803</td>\n",
       "    </tr>\n",
       "  </tbody>\n",
       "</table>\n",
       "<p>60510 rows × 1 columns</p>\n",
       "</div>"
      ],
      "text/plain": [
       "                        PI_71\n",
       "timestamp                    \n",
       "2020-04-27 15:30:00  272.0000\n",
       "2020-04-27 16:30:00  272.0000\n",
       "2020-04-27 19:30:00  272.0000\n",
       "2020-04-27 20:30:00  272.0000\n",
       "2020-04-27 21:30:00  272.0000\n",
       "...                       ...\n",
       "2020-08-05 19:13:45  327.6910\n",
       "2020-08-05 19:14:51  327.9803\n",
       "2020-08-05 19:15:28  327.9803\n",
       "2020-08-05 19:16:10  328.1250\n",
       "2020-08-05 19:17:14  327.9803\n",
       "\n",
       "[60510 rows x 1 columns]"
      ]
     },
     "execution_count": 8,
     "metadata": {},
     "output_type": "execute_result"
    }
   ],
   "source": [
    "data = data.set_index('timestamp', drop=True)\n",
    "data"
   ]
  },
  {
   "cell_type": "code",
   "execution_count": 10,
   "metadata": {},
   "outputs": [
    {
     "data": {
      "text/plain": [
       "array([[272.    ],\n",
       "       [272.    ],\n",
       "       [272.    ],\n",
       "       ...,\n",
       "       [327.9803],\n",
       "       [328.125 ],\n",
       "       [327.9803]])"
      ]
     },
     "execution_count": 10,
     "metadata": {},
     "output_type": "execute_result"
    }
   ],
   "source": [
    "a = np.asarray(data)\n",
    "a"
   ]
  },
  {
   "cell_type": "code",
   "execution_count": null,
   "metadata": {},
   "outputs": [],
   "source": []
  }
 ],
 "metadata": {
  "kernelspec": {
   "display_name": "Python 3",
   "language": "python",
   "name": "python3"
  },
  "language_info": {
   "codemirror_mode": {
    "name": "ipython",
    "version": 3
   },
   "file_extension": ".py",
   "mimetype": "text/x-python",
   "name": "python",
   "nbconvert_exporter": "python",
   "pygments_lexer": "ipython3",
   "version": "3.7.4"
  }
 },
 "nbformat": 4,
 "nbformat_minor": 2
}
